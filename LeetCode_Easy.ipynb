{
 "cells": [
  {
   "cell_type": "code",
   "execution_count": 14,
   "metadata": {},
   "outputs": [
    {
     "name": "stdout",
     "output_type": "stream",
     "text": [
      "True\n",
      "False\n",
      "False\n",
      "True\n",
      "True\n",
      "True\n"
     ]
    }
   ],
   "source": [
    "# Date: 2020-12-24\n",
    "# Problem: 665. Non-decreasing Array\n",
    "# Ref: https://leetcode.com/problems/non-decreasing-array/\n",
    "# Idea: make this one decrease or the next one increase\n",
    "# 问一个数组能不能通过最多修改一个值变成非下降数组\n",
    "\n",
    "# class Solution:\n",
    "#     def checkPossibility(self, nums: List[int]) -> bool:\n",
    "\n",
    "def checkNonDecreasing(nums):\n",
    "    for i in range(len(nums)-1):\n",
    "        if nums[i] > nums[i+1]:\n",
    "            return False\n",
    "    return True\n",
    "\n",
    "def checkPossibility(nums):\n",
    "    \n",
    "    if len(nums) <= 2:\n",
    "        return True\n",
    "    \n",
    "    for i in range(len(nums)-1):\n",
    "        if nums[i] > nums[i+1]:\n",
    "            \n",
    "            solution1 = nums.copy()\n",
    "            if i > 0:\n",
    "                solution1[i] = solution1[i-1]\n",
    "            else:\n",
    "                solution1[i] = solution1[i+1]\n",
    "        \n",
    "            solution2 = nums.copy()\n",
    "            if i < len(nums) - 2:\n",
    "                solution2[i+1] = solution2[i+2]\n",
    "            else:\n",
    "                solution2[i+1] = solution2[i]\n",
    "                \n",
    "            if checkNonDecreasing(solution1) or checkNonDecreasing(solution2):\n",
    "                return True\n",
    "            else:\n",
    "                return False\n",
    "            \n",
    "    return True\n",
    "\n",
    "# = = = Test = = =\n",
    "nums = [4,2,3]\n",
    "print(checkPossibility(nums)) # should be true\n",
    "\n",
    "nums = [4,2,1]\n",
    "print(checkPossibility(nums)) # should be false\n",
    "\n",
    "nums = [2,3,1,2,3]\n",
    "print(checkPossibility(nums)) # should be false\n",
    "\n",
    "nums = [2,3,2,5,6]\n",
    "print(checkPossibility(nums)) # should be true\n",
    "\n",
    "nums = [2,3,2]\n",
    "print(checkPossibility(nums)) # should be true\n",
    "\n",
    "nums = [1,2,4,5,3]\n",
    "print(checkPossibility(nums)) # should be true"
   ]
  },
  {
   "cell_type": "code",
   "execution_count": 47,
   "metadata": {},
   "outputs": [
    {
     "name": "stdout",
     "output_type": "stream",
     "text": [
      "321\n",
      "-321\n",
      "21\n",
      "0\n",
      "0\n"
     ]
    }
   ],
   "source": [
    "# Date: 2020-12-24\n",
    "# Problem: 7. Reverse Integer\n",
    "# Ref: https://leetcode.com/problems/reverse-integer/\n",
    "# Idea: notice this question want you to return 0 when overflow\n",
    "# 把一个数字反向输出，如果是负数，负号仍在前\n",
    "\n",
    "# class Solution:\n",
    "#     def reverse(self, x: int) -> int:\n",
    "\n",
    "def reverse(x):\n",
    "    \n",
    "    #return int(str(x)[::-1]) if x >= 0 else -1 * int(str(x)[1:][::-1])\n",
    "    \n",
    "    if x >= 0:\n",
    "        sol = int(str(x)[::-1])\n",
    "        if sol > 2**31 - 1:\n",
    "            return 0\n",
    "        return sol\n",
    "    else:\n",
    "        sol = -1 * int(str(x)[1:][::-1])\n",
    "        if sol < -1 * 2**31:\n",
    "            return 0\n",
    "        return sol\n",
    "    \n",
    "# = = = Test = = =\n",
    "x = 123\n",
    "print(reverse(x)) # should be 321\n",
    "\n",
    "x = -123\n",
    "print(reverse(x)) # should be -321\n",
    "\n",
    "x = 120\n",
    "print(reverse(x)) # should be 21\n",
    "\n",
    "x = 0\n",
    "print(reverse(x)) # should be 0\n",
    "\n",
    "x = 1534236469\n",
    "print(reverse(x)) # should be 0"
   ]
  },
  {
   "cell_type": "code",
   "execution_count": 56,
   "metadata": {},
   "outputs": [
    {
     "name": "stdout",
     "output_type": "stream",
     "text": [
      "True\n",
      "False\n",
      "False\n",
      "False\n",
      "True\n"
     ]
    }
   ],
   "source": [
    "# Date: 2020-12-25\n",
    "# Problem: 9. Palindrome Number\n",
    "# Ref: https://leetcode.com/problems/palindrome-number/\n",
    "# Idea: nothing\n",
    "# play with HeQun\n",
    "\n",
    "# class Solution:\n",
    "#     def isPalindrome(self, x: int) -> bool:\n",
    "        \n",
    "def isPalindrome(x):\n",
    "    \n",
    "    return str(x) == str(x)[::-1]\n",
    "    \n",
    "#     if x < 0:\n",
    "#         return False\n",
    "#     elif x == 0:\n",
    "#         return True\n",
    "#     else:\n",
    "#         sx = str(x)\n",
    "#         for i in range(len(sx)//2):\n",
    "#             if sx[i] != sx[len(sx)-i-1]:\n",
    "#                 return False\n",
    "#         return True\n",
    "\n",
    "# = = = Test = = =\n",
    "x = 121\n",
    "print(isPalindrome(x)) # should be True\n",
    "\n",
    "x = -121\n",
    "print(isPalindrome(x)) # should be False\n",
    "\n",
    "x = 10\n",
    "print(isPalindrome(x)) # should be False\n",
    "\n",
    "x = -101\n",
    "print(isPalindrome(x)) # should be False\n",
    "\n",
    "x = 0\n",
    "print(isPalindrome(x)) # should be True"
   ]
  },
  {
   "cell_type": "code",
   "execution_count": 2,
   "metadata": {},
   "outputs": [
    {
     "name": "stdout",
     "output_type": "stream",
     "text": [
      "100\n",
      "10101\n"
     ]
    }
   ],
   "source": [
    "# Date: 2021-2-28\n",
    "# Problem: 67. Add Binary\n",
    "# Ref: https://leetcode.com/problems/add-binary/\n",
    "# Idea: nothing\n",
    "# add two binary string, return sum binary string\n",
    "# 1 <= a.length, b.length <= 10^4\n",
    "\n",
    "# class Solution:\n",
    "#     def addBinary(self, a: str, b: str) -> str:\n",
    "\n",
    "def addBinary(a, b):\n",
    "    \n",
    "    int_a = int(a, 2) # convert binary string to integer\n",
    "    int_b = int(b, 2)\n",
    "    sum_ab = int_a + int_b\n",
    "    #sum_str = bin(sum_ab) # start with 0b\n",
    "    sum_str = \"{0:b}\".format(sum_ab) # remove 0b\n",
    "    return sum_str\n",
    "\n",
    "# = = = Test = = =\n",
    "a = \"11\"\n",
    "b = \"1\"\n",
    "print(addBinary(a, b)) # should be \"100\"\n",
    "\n",
    "a = \"1010\"\n",
    "b = \"1011\"\n",
    "print(addBinary(a, b)) # should be \"10101\""
   ]
  },
  {
   "cell_type": "code",
   "execution_count": 4,
   "metadata": {},
   "outputs": [
    {
     "name": "stdout",
     "output_type": "stream",
     "text": [
      "2\n"
     ]
    }
   ],
   "source": [
    "# Date: 2021-3-4\n",
    "# Problem: 258. Add Digits\n",
    "# Ref: https://leetcode.com/problems/add-digits/\n",
    "# Idea: nothing\n",
    "# Given a non-negative integer num, repeatedly add all its digits until the result has only one digit.\n",
    "# input: 38, output:2  The process is like: 3 + 8 = 11, 1 + 1 = 2.\n",
    "\n",
    "# class Solution:\n",
    "#     def addDigits(self, num: int) -> int:\n",
    "\n",
    "def addDigits(num):\n",
    "    \n",
    "    while True:\n",
    "        digits = [int(d) for d in str(num)]\n",
    "        num = sum(digits)\n",
    "        if num <= 9:\n",
    "            return num\n",
    "\n",
    "# = = = Test = = =\n",
    "num = 38\n",
    "print(addDigits(num)) # should be 2"
   ]
  },
  {
   "cell_type": "code",
   "execution_count": 5,
   "metadata": {},
   "outputs": [
    {
     "name": "stdout",
     "output_type": "stream",
     "text": [
      "True\n",
      "False\n",
      "False\n",
      "True\n",
      "False\n"
     ]
    }
   ],
   "source": [
    "# Date: 2021-3-12\n",
    "# Problem: 693. Binary Number with Alternating Bits\n",
    "# Ref: https://leetcode.com/problems/binary-number-with-alternating-bits/\n",
    "# Idea: notice binary representation functions\n",
    "# Given a positive integer, check whether it has alternating bits: namely, if two adjacent bits will always have different values.\n",
    "\n",
    "# class Solution:\n",
    "#     def hasAlternatingBits(self, n: int) -> bool:\n",
    "\n",
    "def hasAlternatingBits(n):\n",
    "    \n",
    "    binary_n = \"{0:b}\".format(n)\n",
    "    for i in range(1,len(binary_n)):\n",
    "        if binary_n[i] == binary_n[i-1]:\n",
    "            return False\n",
    "    return True\n",
    "\n",
    "# = = = Test = = =\n",
    "n = 5\n",
    "print(hasAlternatingBits(n)) # should be true, as 101 is alternating\n",
    "\n",
    "n = 7\n",
    "print(hasAlternatingBits(n)) # should be false, as 111 is not alternating\n",
    "\n",
    "n = 11\n",
    "print(hasAlternatingBits(n)) # should be false, as 1011 is not alternating\n",
    "\n",
    "n = 10\n",
    "print(hasAlternatingBits(n)) # should be true, as 1010 is alternating\n",
    "\n",
    "n = 13\n",
    "print(hasAlternatingBits(n)) # should be false, as 11 is not alternating"
   ]
  },
  {
   "cell_type": "code",
   "execution_count": 8,
   "metadata": {},
   "outputs": [
    {
     "name": "stdout",
     "output_type": "stream",
     "text": [
      "4\n",
      "-1\n"
     ]
    }
   ],
   "source": [
    "# Date: 2021-3-12\n",
    "# Problem: 704. Binary Search\n",
    "# Ref: https://leetcode.com/problems/binary-search/\n",
    "# Idea: nothing\n",
    "# Given an array of integers nums which is sorted in ascending order, and an integer target, \n",
    "# write a function to search target in nums. If target exists, then return its index. Otherwise, return -1.\n",
    "\n",
    "# class Solution:\n",
    "#     def search(self, nums: List[int], target: int) -> int:\n",
    "\n",
    "def search(nums, target):\n",
    "    L = 0\n",
    "    U = len(nums)-1\n",
    "    while L <= U:\n",
    "        mid = (L+U)//2\n",
    "        if nums[mid] == target:\n",
    "            return mid\n",
    "        elif nums[mid] > target:\n",
    "            U = mid-1\n",
    "        else:\n",
    "            L = mid+1\n",
    "    return -1\n",
    "\n",
    "# = = = Test = = =\n",
    "nums = [-1,0,3,5,9,12]\n",
    "target = 9\n",
    "print(search(nums, target)) # should be 4\n",
    "\n",
    "nums = [-1,0,3,5,9,12]\n",
    "target = 2\n",
    "print(search(nums, target)) # should be -1"
   ]
  },
  {
   "cell_type": "code",
   "execution_count": null,
   "metadata": {
    "collapsed": true
   },
   "outputs": [],
   "source": []
  }
 ],
 "metadata": {
  "kernelspec": {
   "display_name": "Python 3",
   "language": "python",
   "name": "python3"
  },
  "language_info": {
   "codemirror_mode": {
    "name": "ipython",
    "version": 3
   },
   "file_extension": ".py",
   "mimetype": "text/x-python",
   "name": "python",
   "nbconvert_exporter": "python",
   "pygments_lexer": "ipython3",
   "version": "3.6.10"
  }
 },
 "nbformat": 4,
 "nbformat_minor": 4
}
