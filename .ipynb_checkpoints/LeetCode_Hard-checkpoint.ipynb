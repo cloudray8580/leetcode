{
 "cells": [
  {
   "cell_type": "code",
   "execution_count": null,
   "metadata": {
    "collapsed": true
   },
   "outputs": [],
   "source": [
    "# date: 2020-7-22\n",
    "# ref: https://leetcode.com/problems/dungeon-game/\n",
    "# idea: backward calculate the required blood\n",
    "class Solution:\n",
    "    def calculateMinimumHP(self, dungeon: List[List[int]]) -> int:\n",
    "        \n",
    "        rows = len(dungeon)\n",
    "        cols = len(dungeon[0])\n",
    "        required_blood = [[0 for j in range(cols)] for i in range(rows)]\n",
    "        \n",
    "        required_blood[rows-1][cols-1] = 1 if dungeon[rows-1][cols-1] >= 0 else 1-dungeon[rows-1][cols-1]\n",
    "            \n",
    "        for j in reversed(range(cols-1)):\n",
    "            required_blood[rows-1][j] = 1 if required_blood[rows-1][j+1]-dungeon[rows-1][j] < 1 else required_blood[rows-1][j+1]-dungeon[rows-1][j]\n",
    "            \n",
    "        for i in reversed(range(rows-1)):\n",
    "            required_blood[i][cols-1] = 1 if required_blood[i+1][cols-1]-dungeon[i][cols-1] < 1 else required_blood[i+1][cols-1]-dungeon[i][cols-1]\n",
    "            \n",
    "        for i in reversed(range(rows-1)):\n",
    "            for j in reversed(range(cols-1)):\n",
    "                required_blood[i][j]= 1 if min(required_blood[i+1][j], required_blood[i][j+1])-dungeon[i][j] < 1 else min(required_blood[i+1][j], required_blood[i][j+1])-dungeon[i][j]\n",
    "                \n",
    "        #print(required_blood[0][0])\n",
    "        return required_blood[0][0]"
   ]
  }
 ],
 "metadata": {
  "kernelspec": {
   "display_name": "Python 3",
   "language": "python",
   "name": "python3"
  },
  "language_info": {
   "codemirror_mode": {
    "name": "ipython",
    "version": 3
   },
   "file_extension": ".py",
   "mimetype": "text/x-python",
   "name": "python",
   "nbconvert_exporter": "python",
   "pygments_lexer": "ipython3",
   "version": "3.6.10"
  }
 },
 "nbformat": 4,
 "nbformat_minor": 2
}
