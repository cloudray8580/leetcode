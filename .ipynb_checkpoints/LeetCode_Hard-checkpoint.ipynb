{
 "cells": [
  {
   "cell_type": "code",
   "execution_count": 8,
   "metadata": {},
   "outputs": [
    {
     "data": {
      "text/plain": [
       "7"
      ]
     },
     "execution_count": 8,
     "metadata": {},
     "output_type": "execute_result"
    }
   ],
   "source": [
    "# Date: 2020-7-22\n",
    "# Problem: 174. Dungeon Game\n",
    "# Ref: https://leetcode.com/problems/dungeon-game/\n",
    "# Idea: backward calculate the required blood\n",
    "# 王子救公主，每个格子可以扣血可以回血，问从左上到右下的路程中需要的最低血量\n",
    "\n",
    "# class Solution:\n",
    "#     def calculateMinimumHP(self, dungeon: List[List[int]]) -> int:\n",
    "    \n",
    "def calculateMinimumHP(dungeon):\n",
    "    rows = len(dungeon)\n",
    "    cols = len(dungeon[0])\n",
    "    required_blood = [[0 for j in range(cols)] for i in range(rows)]\n",
    "\n",
    "    required_blood[rows-1][cols-1] = 1 if dungeon[rows-1][cols-1] >= 0 else 1-dungeon[rows-1][cols-1]\n",
    "\n",
    "    for j in reversed(range(cols-1)):\n",
    "        required_blood[rows-1][j] = 1 if required_blood[rows-1][j+1]-dungeon[rows-1][j] < 1 else required_blood[rows-1][j+1]-dungeon[rows-1][j]\n",
    "\n",
    "    for i in reversed(range(rows-1)):\n",
    "        required_blood[i][cols-1] = 1 if required_blood[i+1][cols-1]-dungeon[i][cols-1] < 1 else required_blood[i+1][cols-1]-dungeon[i][cols-1]\n",
    "\n",
    "    for i in reversed(range(rows-1)):\n",
    "        for j in reversed(range(cols-1)):\n",
    "            required_blood[i][j]= 1 if min(required_blood[i+1][j], required_blood[i][j+1])-dungeon[i][j] < 1 else min(required_blood[i+1][j], required_blood[i][j+1])-dungeon[i][j]\n",
    "\n",
    "    #print(required_blood[0][0])\n",
    "    return required_blood[0][0]\n",
    "\n",
    "# = = = Test = = =\n",
    "dungeon = [[-2, -3, 3], [-5, -10, 1], [10, 30, -5]]\n",
    "calculateMinimumHP(dungeon) # should be 7"
   ]
  },
  {
   "cell_type": "code",
   "execution_count": 24,
   "metadata": {},
   "outputs": [
    {
     "name": "stdout",
     "output_type": "stream",
     "text": [
      "True\n",
      "False\n",
      "True\n",
      "True\n",
      "False\n",
      "False\n",
      "False\n"
     ]
    }
   ],
   "source": [
    "# Date: 2020-7-23\n",
    "# Problem: 1354. Construct Target Array With Multiple Sums\n",
    "# Ref: https://leetcode.com/problems/construct-target-array-with-multiple-sums/\n",
    "# Idea: backtrack\n",
    "# 从已有array 构建目标array\n",
    "\n",
    "# class Solution:\n",
    "#     def isPossible(self, target: List[int]) -> bool:\n",
    "\n",
    "import numpy as np\n",
    "\n",
    "# version 1: time limit exceeds\n",
    "# def isPossible(target):\n",
    "#     arr_len = len(target)\n",
    "#     A = [1 for i in range(arr_len)]\n",
    "#     reconstruct_flag = True\n",
    "#     while True:\n",
    "#         current_max = max(target)\n",
    "#         if current_max == 1:\n",
    "#             break\n",
    "#         current_max_index = target.index(current_max)\n",
    "        \n",
    "#         # back track\n",
    "#         sum_remaining = sum(target) - current_max\n",
    "#         current_max_origin = current_max - sum_remaining # current max minus the sum of remaining\n",
    "#         if current_max_origin < 1:\n",
    "#             reconstruct_flag = False\n",
    "#             break\n",
    "#         target[current_max_index] = current_max_origin\n",
    "    \n",
    "#     return reconstruct_flag\n",
    "\n",
    "# version 2\n",
    "def isPossible(target):\n",
    "    arr_len = len(target)\n",
    "    A = [1 for i in range(arr_len)]\n",
    "    reconstruct_flag = True\n",
    "    \n",
    "    while True:\n",
    "        current_max = max(target)\n",
    "        if current_max == 1:\n",
    "            break\n",
    "        current_max_index = target.index(current_max)\n",
    "        \n",
    "        # back track\n",
    "        sum_remaining = sum(target) - current_max\n",
    "        if current_max <= sum_remaining or sum_remaining == 0:\n",
    "            reconstruct_flag = False\n",
    "            break\n",
    "        \n",
    "        # the new max could be constructed by iterately add the remaining sum\n",
    "        current_max_origin = current_max % sum_remaining\n",
    "        if current_max_origin == 0:\n",
    "            if sum_remaining != 1:\n",
    "                reconstruct_flag = False\n",
    "                break\n",
    "            else:\n",
    "                current_max_origin = 1\n",
    "        target[current_max_index] = current_max_origin\n",
    "    \n",
    "    return reconstruct_flag\n",
    "\n",
    "# = = = Test = = =\n",
    "target = [9,3,5]\n",
    "print(isPossible(target)) # should be True\n",
    "\n",
    "target = [8,3,5]\n",
    "print(isPossible(target)) # should be False\n",
    "\n",
    "target = [8,5]\n",
    "print(isPossible(target)) # should be True\n",
    "\n",
    "target = [1,1000000000]\n",
    "print(isPossible(target)) # should be True, watch time limit exceeds\n",
    "\n",
    "target = [1,1,1,2] # time limit exceeds\n",
    "print(isPossible(target)) # should be False\n",
    "\n",
    "target = [2,900000002]\n",
    "print(isPossible(target)) # should be False\n",
    "\n",
    "target = [2]\n",
    "print(isPossible(target)) # should be False"
   ]
  },
  {
   "cell_type": "code",
   "execution_count": 6,
   "metadata": {},
   "outputs": [],
   "source": [
    "import numpy as np\n",
    "x = np.array([3, 1, 2])\n",
    "argx = np.argsort(x)"
   ]
  },
  {
   "cell_type": "code",
   "execution_count": 5,
   "metadata": {},
   "outputs": [
    {
     "data": {
      "text/plain": [
       "array([3, 1, 2])"
      ]
     },
     "execution_count": 5,
     "metadata": {},
     "output_type": "execute_result"
    }
   ],
   "source": []
  },
  {
   "cell_type": "code",
   "execution_count": 7,
   "metadata": {},
   "outputs": [
    {
     "data": {
      "text/plain": [
       "array([1, 2, 0], dtype=int64)"
      ]
     },
     "execution_count": 7,
     "metadata": {},
     "output_type": "execute_result"
    }
   ],
   "source": [
    "argx"
   ]
  },
  {
   "cell_type": "code",
   "execution_count": null,
   "metadata": {
    "collapsed": true
   },
   "outputs": [],
   "source": []
  }
 ],
 "metadata": {
  "kernelspec": {
   "display_name": "Python 3",
   "language": "python",
   "name": "python3"
  },
  "language_info": {
   "codemirror_mode": {
    "name": "ipython",
    "version": 3
   },
   "file_extension": ".py",
   "mimetype": "text/x-python",
   "name": "python",
   "nbconvert_exporter": "python",
   "pygments_lexer": "ipython3",
   "version": "3.6.10"
  }
 },
 "nbformat": 4,
 "nbformat_minor": 2
}
